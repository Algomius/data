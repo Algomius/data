{
 "cells": [
  {
   "cell_type": "markdown",
   "metadata": {},
   "source": [
    "# Information sur les champignons"
   ]
  },
  {
   "cell_type": "markdown",
   "metadata": {},
   "source": [
    "## On importe les bibliothèques nécessaires\n",
    "* pandas\n",
    "* numpy\n",
    "* matplotlib\n",
    "* seaborn"
   ]
  },
  {
   "cell_type": "code",
   "execution_count": null,
   "metadata": {},
   "outputs": [],
   "source": []
  },
  {
   "cell_type": "markdown",
   "metadata": {},
   "source": [
    "## Récupération des informations\n",
    "* Les données proviennent du site Kraggle : https://www.kaggle.com/datasets/uciml/mushroom-classification\n",
    "* Voyons ce que contient le fichier"
   ]
  },
  {
   "cell_type": "code",
   "execution_count": null,
   "metadata": {},
   "outputs": [],
   "source": []
  },
  {
   "cell_type": "markdown",
   "metadata": {},
   "source": [
    "## Est-ce que les données sont équilibrées ?\n",
    "* Nous allons vérifier la parité dans les données cibles\n",
    "* Pour cela nous allons représenter sur un graphique le nombre de champignons vénéneux (p) et \n",
    "le nombre de comestibles (e)"
   ]
  },
  {
   "cell_type": "code",
   "execution_count": null,
   "metadata": {},
   "outputs": [],
   "source": []
  },
  {
   "cell_type": "markdown",
   "metadata": {},
   "source": [
    "## Visualisation de tous les critères\n",
    "* Nous allons écrire une fonction générique pour gagner du temps"
   ]
  },
  {
   "cell_type": "code",
   "execution_count": null,
   "metadata": {},
   "outputs": [],
   "source": []
  },
  {
   "cell_type": "markdown",
   "metadata": {},
   "source": [
    "* Nous allons maintenant donner le caractère vénéneux ou non en fonction de chacun des paramètres"
   ]
  },
  {
   "cell_type": "code",
   "execution_count": null,
   "metadata": {},
   "outputs": [],
   "source": []
  },
  {
   "cell_type": "markdown",
   "metadata": {},
   "source": [
    "## Vérification des données manquantes\n",
    "* Nous allons nettoyer le fichier des données manquantes"
   ]
  },
  {
   "cell_type": "code",
   "execution_count": null,
   "metadata": {},
   "outputs": [],
   "source": []
  },
  {
   "cell_type": "markdown",
   "metadata": {},
   "source": [
    "## Rendre les données exploitable\n",
    "* Les critères ne sont pas numériques et sont difficilement exploitables\n",
    "* Il faut les convertir\n",
    "* Commençons par la cible"
   ]
  },
  {
   "cell_type": "code",
   "execution_count": null,
   "metadata": {},
   "outputs": [],
   "source": []
  },
  {
   "cell_type": "markdown",
   "metadata": {},
   "source": [
    "* Convertissons également les paramètres\n",
    "* Chaque valeur de caractéristique va devenir un booléen\n",
    "* Il y aura donc plus de colonnes dans notre dataset"
   ]
  },
  {
   "cell_type": "code",
   "execution_count": null,
   "metadata": {},
   "outputs": [],
   "source": []
  },
  {
   "cell_type": "code",
   "execution_count": null,
   "metadata": {},
   "outputs": [],
   "source": []
  },
  {
   "cell_type": "markdown",
   "metadata": {},
   "source": [
    "## Mise en place du modèle\n",
    "* La première étape consiste à séparer les données d'entrainement des données de test"
   ]
  },
  {
   "cell_type": "code",
   "execution_count": null,
   "metadata": {},
   "outputs": [],
   "source": []
  },
  {
   "cell_type": "markdown",
   "metadata": {},
   "source": [
    "* Nous allons créer un modèle basé sur une regression logistique et l'alimenter\n",
    "* La fonction predict_proba retourne les probabilités pour chaque individu d'appartenir à une des cibles :\n",
    "    * Soit comestible\n",
    "    * Soit non commestible\n",
    "* La somme des probabilités est de 1\n",
    "* Nous nous basons sur ces probabilités pour déterminer dans quelle classe doit être rangé chaque individu (proba > 0.5)"
   ]
  },
  {
   "cell_type": "code",
   "execution_count": null,
   "metadata": {},
   "outputs": [],
   "source": []
  },
  {
   "cell_type": "markdown",
   "metadata": {},
   "source": [
    "## Utilisation de la matrice de confusion\n",
    "* La matrice de confusion se construit de la manière suivante :\n",
    "    * Les lignes correspondent aux valeurs observées \n",
    "    * Les colonnes correspondent aux valeurs prédites\n",
    "* Les valeurs sur la diagonale indiquent donc les bonnes prévisions"
   ]
  },
  {
   "cell_type": "code",
   "execution_count": null,
   "metadata": {},
   "outputs": [],
   "source": [
    "\n"
   ]
  }
 ],
 "metadata": {
  "kernelspec": {
   "display_name": "Python 3",
   "language": "python",
   "name": "python3"
  },
  "language_info": {
   "codemirror_mode": {
    "name": "ipython",
    "version": 3
   },
   "file_extension": ".py",
   "mimetype": "text/x-python",
   "name": "python",
   "nbconvert_exporter": "python",
   "pygments_lexer": "ipython3",
   "version": "3.12.3"
  }
 },
 "nbformat": 4,
 "nbformat_minor": 2
}
