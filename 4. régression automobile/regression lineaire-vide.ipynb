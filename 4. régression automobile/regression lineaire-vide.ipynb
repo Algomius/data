{
 "cells": [
  {
   "cell_type": "markdown",
   "metadata": {},
   "source": [
    "# Régression linéaire"
   ]
  },
  {
   "cell_type": "markdown",
   "metadata": {},
   "source": [
    "Imaginons que nous voulions récupérer l'équation d'une regression (donc continue) et pour cela, utilisons un fichier csv.\n",
    "Le modèle n'est pas dans scikit-learn, nous allons le charger (https://www.kaggle.com/datasets)"
   ]
  },
  {
   "cell_type": "markdown",
   "metadata": {},
   "source": [
    "## On importe les bibliothèques nécessaires\n",
    "* pandas\n",
    "* numpy\n",
    "* matplotlib"
   ]
  },
  {
   "cell_type": "code",
   "execution_count": null,
   "metadata": {},
   "outputs": [],
   "source": []
  },
  {
   "cell_type": "markdown",
   "metadata": {},
   "source": [
    "## Récupération des informations\n",
    "* Les données proviennent du site Kraggle : https://www.kaggle.com/datasets/yasserh/auto-mpg-dataset\n",
    "* Voyons ce que contient le fichier"
   ]
  },
  {
   "cell_type": "code",
   "execution_count": null,
   "metadata": {},
   "outputs": [],
   "source": []
  },
  {
   "cell_type": "markdown",
   "metadata": {},
   "source": [
    "# Première hypothèse\n",
    "* Nous pensons que le poids d'un véhicule influe sur sa consommation\n",
    "* Représentons graphiquement notre hypothèse\n",
    "* Confrontons les données poids (weight) et distance en miles parcourue avec 1 gallon (mpg)"
   ]
  },
  {
   "cell_type": "code",
   "execution_count": null,
   "metadata": {},
   "outputs": [],
   "source": []
  },
  {
   "cell_type": "markdown",
   "metadata": {},
   "source": [
    "## Notre hypothèse se confirme\n",
    "* Il semble y avoir corrélation \n",
    "* Cette corrélation ne semble pas linéaire\n",
    "* Voyons quand même ce que la regression linéaire peut nous apprendre\n",
    "* Créons et entrainons un modèle\n",
    "* Le modèle va nous donner les coefficients de la droite de régression linéaire"
   ]
  },
  {
   "cell_type": "code",
   "execution_count": null,
   "metadata": {},
   "outputs": [],
   "source": []
  },
  {
   "cell_type": "markdown",
   "metadata": {},
   "source": [
    "* Visualisons la droite de régression sur notre graphique"
   ]
  },
  {
   "cell_type": "code",
   "execution_count": null,
   "metadata": {},
   "outputs": [],
   "source": []
  },
  {
   "cell_type": "markdown",
   "metadata": {},
   "source": [
    "## Notre hypothèse se confirme\n",
    "* Il semble y avoir corrélation \n",
    "* Cette corrélation ne semble pas linéaire\n",
    "* Cette fois nous allons nous baser sur une régression polynomiale dont il faudra renseigner le degré\n",
    "* reschape transforme un tableau 1D en tableau 2D, obligatoire pour avoir le paramètre sous la bonne forme\n",
    "* Les données en entrée vont subir une transformation qui va nous permettre d'utiliser une regression linéaire"
   ]
  },
  {
   "cell_type": "code",
   "execution_count": null,
   "metadata": {},
   "outputs": [],
   "source": []
  },
  {
   "cell_type": "markdown",
   "metadata": {},
   "source": [
    "## Régression linaire\n",
    "* La régression linéaire s'applique maintenant aux données transformées\n",
    "* La prédiction se passe donc comme si la régression était polynomiale"
   ]
  },
  {
   "cell_type": "code",
   "execution_count": null,
   "metadata": {},
   "outputs": [],
   "source": []
  },
  {
   "cell_type": "markdown",
   "metadata": {},
   "source": [
    "## Visualisation\n",
    "* Il ne reste plus qu'à visualiser le résultat graphiquement\n",
    "* La regression polynomiale est bien plus proche de la réalité\n",
    "* Modifions le degré du polynome pour voir les différentes propositions"
   ]
  },
  {
   "cell_type": "code",
   "execution_count": null,
   "metadata": {},
   "outputs": [],
   "source": []
  },
  {
   "cell_type": "markdown",
   "metadata": {},
   "source": [
    "## Equation de la courbe\n",
    "* On retrouve les coefficients des puissances de x\n",
    "* On retrouve la constante"
   ]
  },
  {
   "cell_type": "code",
   "execution_count": null,
   "metadata": {},
   "outputs": [],
   "source": []
  }
 ],
 "metadata": {
  "kernelspec": {
   "display_name": "Python 3",
   "language": "python",
   "name": "python3"
  },
  "language_info": {
   "codemirror_mode": {
    "name": "ipython",
    "version": 3
   },
   "file_extension": ".py",
   "mimetype": "text/x-python",
   "name": "python",
   "nbconvert_exporter": "python",
   "pygments_lexer": "ipython3",
   "version": "3.12.2"
  }
 },
 "nbformat": 4,
 "nbformat_minor": 2
}
