{
 "cells": [
  {
   "cell_type": "markdown",
   "metadata": {},
   "source": [
    "# Partitionnement hiérarchique"
   ]
  },
  {
   "cell_type": "markdown",
   "metadata": {},
   "source": [
    "## Importation des bibliothèques\n",
    "* make_blobs permet de générer des distributions suivant une loi normale"
   ]
  },
  {
   "cell_type": "code",
   "execution_count": null,
   "metadata": {},
   "outputs": [],
   "source": []
  },
  {
   "cell_type": "markdown",
   "metadata": {},
   "source": [
    "## Génération des données :\n",
    "* Cette fois nous allons générer des données à l'aide de scikit-learn\n",
    "    * n_samples = nombre de points à générer\n",
    "    * n_features = nombre de paramètres des points\n",
    "    * centers = nombre de centres à générer (paramètre de la loi normale)\n",
    "    * cluster_std = La déviation standard pour les partition (paramètre de la loi normale)"
   ]
  },
  {
   "cell_type": "code",
   "execution_count": null,
   "metadata": {},
   "outputs": [],
   "source": []
  },
  {
   "cell_type": "markdown",
   "metadata": {},
   "source": [
    "## Ajout des bibliothèques pour utiliser le partitionnement hiérarchique\n",
    "* Dans scipy se trouve un objet pour générer graphiquement les arbres de partitionnement\n",
    "* Dans sklearn, nous cherchons l'algorithme de partitionnement par agglomération"
   ]
  },
  {
   "cell_type": "code",
   "execution_count": null,
   "metadata": {},
   "outputs": [],
   "source": []
  },
  {
   "cell_type": "markdown",
   "metadata": {},
   "source": [
    "## Arbre de partitionnement avec scipy\n",
    "* Le diagramme représentant les groupements hiérarchiques s'appelle un dendrogramme\n",
    "* La fonction linkage de scipy permet de réaliser l'agglomération :\n",
    "    * method = 'single' : basé sur la distance minimum\n",
    "    * method = 'complete' : basé sur la distance maximum\n",
    "    * method = 'average' : basé sur la distance moyenne\n",
    "    * method = 'centroid' : basé sur la distance entre les centroids (centre de gravité)\n",
    "    * method = 'ward' : : methode basée sur la minimisation des écarts au carré après la fusion de deux partitions  \n",
    "* Une fois le partitionnement réalisé, il ne reste plus qu'à afficher le dendogramme\n"
   ]
  },
  {
   "cell_type": "code",
   "execution_count": null,
   "metadata": {},
   "outputs": [],
   "source": []
  },
  {
   "cell_type": "markdown",
   "metadata": {},
   "source": [
    "## Représentation graphique des points générés"
   ]
  },
  {
   "cell_type": "code",
   "execution_count": null,
   "metadata": {},
   "outputs": [],
   "source": []
  },
  {
   "cell_type": "markdown",
   "metadata": {},
   "source": [
    "## Création de l'objet qui va appliquer le partitionnement par agglomération\n",
    "* n_clusters : Combien de partitions voulons-nous ?\n",
    "* linkage : Quel mode de calcul des distances utiliser ?\n",
    "* lancer l'entrainement de la prédiction sur les données"
   ]
  },
  {
   "cell_type": "code",
   "execution_count": null,
   "metadata": {},
   "outputs": [],
   "source": []
  },
  {
   "cell_type": "markdown",
   "metadata": {},
   "source": [
    "## Représentation graphique de la prédiction\n",
    "* La prédiction se décompose en 4 partitions\n",
    "* Nous allons les représenter à l'aide de 4 couleurs différentes"
   ]
  },
  {
   "cell_type": "code",
   "execution_count": null,
   "metadata": {},
   "outputs": [],
   "source": []
  },
  {
   "cell_type": "markdown",
   "metadata": {},
   "source": [
    "## Représentation graphique de la cible"
   ]
  },
  {
   "cell_type": "code",
   "execution_count": null,
   "metadata": {},
   "outputs": [],
   "source": []
  }
 ],
 "metadata": {
  "kernelspec": {
   "display_name": "Python 3",
   "language": "python",
   "name": "python3"
  },
  "language_info": {
   "codemirror_mode": {
    "name": "ipython",
    "version": 3
   },
   "file_extension": ".py",
   "mimetype": "text/x-python",
   "name": "python",
   "nbconvert_exporter": "python",
   "pygments_lexer": "ipython3",
   "version": "3.12.3"
  }
 },
 "nbformat": 4,
 "nbformat_minor": 2
}
